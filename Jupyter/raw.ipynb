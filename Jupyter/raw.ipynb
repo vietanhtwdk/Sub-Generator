{
 "cells": [
  {
   "cell_type": "code",
   "execution_count": 1,
   "metadata": {},
   "outputs": [],
   "source": [
    "import os\n",
    "import pytube\n",
    "from google.cloud import storage\n",
    "import json\n",
    "import io\n",
    "from google.cloud import speech_v1\n",
    "from google.cloud.speech_v1 import enums\n",
    "from google.cloud.speech_v1 import types\n",
    "import subprocess\n",
    "from pydub.utils import mediainfo\n",
    "import subprocess\n",
    "import math\n",
    "import datetime\n",
    "import srt\n",
    "import moviepy.editor as mp "
   ]
  },
  {
   "cell_type": "code",
   "execution_count": 2,
   "metadata": {},
   "outputs": [],
   "source": [
    "os.environ[\"GOOGLE_APPLICATION_CREDENTIALS\"]=\"alien-fold-281005-ad5ab61eb021.json\""
   ]
  },
  {
   "cell_type": "code",
   "execution_count": 3,
   "metadata": {},
   "outputs": [],
   "source": [
    "BUCKET_NAME = \"subtitle-generation\" # update this with your bucket name\n",
    "link=\"https://www.youtube.com/watch?v=ImEnWAVRLU0\""
   ]
  },
  {
   "cell_type": "code",
   "execution_count": 4,
   "metadata": {},
   "outputs": [],
   "source": [
    "def upload_blob(bucket_name, source_file_name, destination_blob_name):\n",
    "    \"\"\"Uploads a file to the bucket.\"\"\"\n",
    "    # bucket_name = \"your-bucket-name\"\n",
    "    # source_file_name = \"local/path/to/file\"\n",
    "    # destination_blob_name = \"storage-object-name\"\n",
    "\n",
    "    storage_client = storage.Client()\n",
    "    bucket = storage_client.bucket(bucket_name)\n",
    "    blob = bucket.blob(destination_blob_name)\n",
    "\n",
    "    blob.upload_from_filename(source_file_name)\n",
    "\n",
    "    print(\n",
    "        \"File {} uploaded to {}.\".format(\n",
    "            source_file_name, destination_blob_name\n",
    "        )\n",
    "    )"
   ]
  },
  {
   "cell_type": "code",
   "execution_count": 5,
   "metadata": {},
   "outputs": [],
   "source": [
    "def download_video(link):\n",
    "    try: \n",
    "        #object creation using YouTube which was imported in the beginning \n",
    "        yt = pytube.YouTube(link) \n",
    "    except: \n",
    "        print(\"Connection Error\") #to handle exception \n",
    "    video_path = yt.streams.filter(progressive=True, file_extension='mp4').order_by('resolution').desc().first().download()\n",
    "    \n",
    "    print(video_path)\n",
    "    # rename the path\n",
    "    new_path = video_path.split('/')\n",
    "    new_filename = f\"video.mp4\"\n",
    "    new_path[-1]= new_filename\n",
    "    new_path='/'.join(new_path)\n",
    "    os.rename(video_path, new_path)\n",
    "    print(new_path)\n",
    "    return new_path"
   ]
  },
  {
   "cell_type": "code",
   "execution_count": 6,
   "metadata": {},
   "outputs": [],
   "source": [
    "def video_info(video_filepath):\n",
    "    \"\"\" this function returns number of channels, bit rate, and sample rate of the video\"\"\"\n",
    "\n",
    "    video_data = mediainfo(video_filepath)\n",
    "    channels = video_data[\"channels\"]\n",
    "    bit_rate = video_data[\"bit_rate\"]\n",
    "    sample_rate = video_data[\"sample_rate\"]\n",
    "\n",
    "    return channels, bit_rate, sample_rate"
   ]
  },
  {
   "cell_type": "code",
   "execution_count": 7,
   "metadata": {},
   "outputs": [],
   "source": [
    "def video_to_audio(video_filepath, audio_filename, video_channels, video_bit_rate, video_sample_rate):\n",
    "    # Insert Local Video File Path  \n",
    "    clip = mp.VideoFileClip(video_filepath) \n",
    "\n",
    "    # Insert Local Audio File Path \n",
    "    clip.audio.write_audiofile(audio_filename) \n",
    "    #command = f\"ffmpeg -i {video_filepath} -b:a {video_bit_rate} -ac {video_channels} -ar {video_sample_rate} -vn {audio_filename}\"\n",
    "    \n",
    "    subprocess.call(audio_filename, shell=True)\n",
    "    blob_name = f\"audios/{audio_filename}\"\n",
    "    upload_blob(BUCKET_NAME, audio_filename, blob_name)\n",
    "    return blob_name"
   ]
  },
  {
   "cell_type": "code",
   "execution_count": 8,
   "metadata": {},
   "outputs": [],
   "source": [
    "def long_running_recognize(storage_uri, channels, sample_rate):\n",
    "    \n",
    "    client = speech_v1.SpeechClient()\n",
    "\n",
    "    config = {\n",
    "        \"language_code\": \"en-US\",\n",
    "        \"sample_rate_hertz\": int(sample_rate),\n",
    "        \"encoding\": enums.RecognitionConfig.AudioEncoding.ENCODING_UNSPECIFIED,\n",
    "        \"audio_channel_count\": int(channels),\n",
    "        \"enable_word_time_offsets\": True,\n",
    "        \"model\": \"video\",\n",
    "        \"enable_automatic_punctuation\":True\n",
    "    }\n",
    "    audio = {\"uri\": storage_uri}\n",
    "\n",
    "    operation = client.long_running_recognize(config, audio)\n",
    "\n",
    "    print(u\"Waiting for operation to complete...\")\n",
    "    response = operation.result()\n",
    "    return response\n"
   ]
  },
  {
   "cell_type": "code",
   "execution_count": 9,
   "metadata": {},
   "outputs": [],
   "source": [
    "def subtitle_generation(speech_to_text_response, bin_size=3):\n",
    "    \"\"\"We define a bin of time period to display the words in sync with audio. \n",
    "    Here, bin_size = 3 means each bin is of 3 secs. \n",
    "    All the words in the interval of 3 secs in result will be grouped togather.\"\"\"\n",
    "    transcriptions = []\n",
    "    index = 0\n",
    " \n",
    "    for result in response.results:\n",
    "        try:\n",
    "            if result.alternatives[0].words[0].start_time.seconds:\n",
    "                # bin start -> for first word of result\n",
    "                start_sec = result.alternatives[0].words[0].start_time.seconds \n",
    "                start_microsec = result.alternatives[0].words[0].start_time.nanos * 0.001\n",
    "            else:\n",
    "                # bin start -> For First word of response\n",
    "                start_sec = 0\n",
    "                start_microsec = 0 \n",
    "            end_sec = start_sec + bin_size # bin end sec\n",
    "            \n",
    "            # for last word of result\n",
    "            last_word_end_sec = result.alternatives[0].words[-1].end_time.seconds\n",
    "            last_word_end_microsec = result.alternatives[0].words[-1].end_time.nanos * 0.001\n",
    "            \n",
    "            # bin transcript\n",
    "            transcript = result.alternatives[0].words[0].word\n",
    "            \n",
    "            index += 1 # subtitle index\n",
    "\n",
    "            for i in range(len(result.alternatives[0].words) - 1):\n",
    "                try:\n",
    "                    word = result.alternatives[0].words[i + 1].word\n",
    "                    word_start_sec = result.alternatives[0].words[i + 1].start_time.seconds\n",
    "                    word_start_microsec = result.alternatives[0].words[i + 1].start_time.nanos * 0.001 # 0.001 to convert nana -> micro\n",
    "                    word_end_sec = result.alternatives[0].words[i + 1].end_time.seconds\n",
    "                    word_end_microsec = result.alternatives[0].words[i + 1].end_time.nanos * 0.001\n",
    "\n",
    "                    if word_end_sec < end_sec:\n",
    "                        transcript = transcript + \" \" + word\n",
    "                    else:\n",
    "                        previous_word_end_sec = result.alternatives[0].words[i].end_time.seconds\n",
    "                        previous_word_end_microsec = result.alternatives[0].words[i].end_time.nanos * 0.001\n",
    "                        \n",
    "                        # append bin transcript\n",
    "                        transcriptions.append(srt.Subtitle(index, datetime.timedelta(0, start_sec, start_microsec), datetime.timedelta(0, previous_word_end_sec, previous_word_end_microsec), transcript))\n",
    "                        \n",
    "                        # reset bin parameters\n",
    "                        start_sec = word_start_sec\n",
    "                        start_microsec = word_start_microsec\n",
    "                        end_sec = start_sec + bin_size\n",
    "                        transcript = result.alternatives[0].words[i + 1].word\n",
    "                        \n",
    "                        index += 1\n",
    "                except IndexError:\n",
    "                    pass\n",
    "            # append transcript of last transcript in bin\n",
    "            transcriptions.append(srt.Subtitle(index, datetime.timedelta(0, start_sec, start_microsec), datetime.timedelta(0, last_word_end_sec, last_word_end_microsec), transcript))\n",
    "            index += 1\n",
    "        except IndexError:\n",
    "            pass\n",
    "    \n",
    "    # turn transcription list into subtitles\n",
    "    subtitles = srt.compose(transcriptions)\n",
    "    return subtitles"
   ]
  },
  {
   "cell_type": "code",
   "execution_count": 10,
   "metadata": {},
   "outputs": [
    {
     "name": "stdout",
     "output_type": "stream",
     "text": [
      "C:\\Users\\Admin\\OneDrive\\Documents\\GitHub\\Sub-Generator\\Jupyter\\Mike Ross Interview with Harvey Specter  Suits.mp4\n",
      "video.mp4\n"
     ]
    }
   ],
   "source": [
    "video_path=download_video(link)"
   ]
  },
  {
   "cell_type": "code",
   "execution_count": 11,
   "metadata": {},
   "outputs": [],
   "source": [
    "channels, bit_rate, sample_rate = video_info(video_path)"
   ]
  },
  {
   "cell_type": "code",
   "execution_count": 12,
   "metadata": {},
   "outputs": [
    {
     "name": "stderr",
     "output_type": "stream",
     "text": [
      "chunk:   1%|▎                                                            | 63/11749 [00:00<00:18, 625.39it/s, now=None]"
     ]
    },
    {
     "name": "stdout",
     "output_type": "stream",
     "text": [
      "MoviePy - Writing audio in audio.mp3\n"
     ]
    },
    {
     "name": "stderr",
     "output_type": "stream",
     "text": [
      "                                                                                                                       \r"
     ]
    },
    {
     "name": "stdout",
     "output_type": "stream",
     "text": [
      "MoviePy - Done.\n",
      "File audio.mp3 uploaded to audios/audio.mp3.\n"
     ]
    }
   ],
   "source": [
    "blob_name=video_to_audio(video_path, \"audio.mp3\", channels, bit_rate, sample_rate)"
   ]
  },
  {
   "cell_type": "code",
   "execution_count": 13,
   "metadata": {},
   "outputs": [
    {
     "name": "stdout",
     "output_type": "stream",
     "text": [
      "Waiting for operation to complete...\n"
     ]
    }
   ],
   "source": [
    "gcs_uri = f\"gs://{BUCKET_NAME}/{blob_name}\"\n",
    "response=long_running_recognize(gcs_uri, channels, sample_rate)"
   ]
  },
  {
   "cell_type": "code",
   "execution_count": 14,
   "metadata": {},
   "outputs": [],
   "source": [
    "subtitles= subtitle_generation(response)"
   ]
  },
  {
   "cell_type": "code",
   "execution_count": 15,
   "metadata": {},
   "outputs": [],
   "source": [
    "with open(\"subtitles.srt\", \"w\") as f:\n",
    "    f.write(subtitles)"
   ]
  },
  {
   "cell_type": "code",
   "execution_count": 16,
   "metadata": {},
   "outputs": [
    {
     "ename": "IndentationError",
     "evalue": "expected an indented block (<ipython-input-16-0c05a835eb04>, line 8)",
     "output_type": "error",
     "traceback": [
      "\u001b[1;36m  File \u001b[1;32m\"<ipython-input-16-0c05a835eb04>\"\u001b[1;36m, line \u001b[1;32m8\u001b[0m\n\u001b[1;33m    f.write(subtitles)\u001b[0m\n\u001b[1;37m    ^\u001b[0m\n\u001b[1;31mIndentationError\u001b[0m\u001b[1;31m:\u001b[0m expected an indented block\n"
     ]
    }
   ],
   "source": [
    "def video_to_sub(video_path):\n",
    "    channels, bit_rate, sample_rate = video_info(video_path)\n",
    "    blob_name=video_to_audio(video_path, \"audio.mp3\", channels, bit_rate, sample_rate)\n",
    "    gcs_uri = f\"gs://{BUCKET_NAME}/{blob_name}\"\n",
    "    response=long_running_recognize(gcs_uri, channels, sample_rate)\n",
    "    subtitles= subtitle_generation(response)\n",
    "    with open(\"subtitles.srt\", \"w\") as f:\n",
    "        f.write(subtitles)\n",
    "    return \"subtitles.srt\""
   ]
  },
  {
   "cell_type": "code",
   "execution_count": 12,
   "metadata": {},
   "outputs": [
    {
     "name": "stderr",
     "output_type": "stream",
     "text": [
      "chunk:   0%|▏                                                            | 36/11751 [00:00<00:47, 246.97it/s, now=None]"
     ]
    },
    {
     "name": "stdout",
     "output_type": "stream",
     "text": [
      "MoviePy - Writing audio in audio.wav\n"
     ]
    },
    {
     "name": "stderr",
     "output_type": "stream",
     "text": [
      "                                                                                                                       "
     ]
    },
    {
     "name": "stdout",
     "output_type": "stream",
     "text": [
      "MoviePy - Done.\n"
     ]
    },
    {
     "name": "stderr",
     "output_type": "stream",
     "text": [
      "\r"
     ]
    }
   ],
   "source": [
    "import moviepy.editor as mp \n",
    "# Insert Local Video File Path  \n",
    "clip = mp.VideoFileClip(r\"video.mp4\") \n",
    "  \n",
    "# Insert Local Audio File Path \n",
    "clip.audio.write_audiofile(r\"audio.wav\") "
   ]
  },
  {
   "cell_type": "code",
   "execution_count": 6,
   "metadata": {},
   "outputs": [],
   "source": [
    "import re\n",
    "import json\n",
    "from sys import argv\n",
    "\n",
    "def parse_time(time_string):\n",
    "    hours = int(re.findall(r'(\\d+):\\d+:\\d+,\\d+', time_string)[0])\n",
    "    minutes = int(re.findall(r'\\d+:(\\d+):\\d+,\\d+', time_string)[0])\n",
    "    seconds = int(re.findall(r'\\d+:\\d+:(\\d+),\\d+', time_string)[0])\n",
    "    milliseconds = int(re.findall(r'\\d+:\\d+:\\d+,(\\d+)', time_string)[0])\n",
    "\n",
    "    return (hours*3600 + minutes*60 + seconds) * 1000 + milliseconds\n",
    "\n",
    "def parse_srt(srt_string):\n",
    "    srt_list = []\n",
    "\n",
    "    for line in srt_string.split('\\n\\n'):\n",
    "        if line != '':\n",
    "            index = int(re.match(r'\\d+', line).group())\n",
    "\n",
    "            pos = re.search(r'\\d+:\\d+:\\d+,\\d+ --> \\d+:\\d+:\\d+,\\d+', line).end() + 1\n",
    "            content = line[pos:]\n",
    "            start_time_string = re.findall(r'(\\d+:\\d+:\\d+,\\d+) --> \\d+:\\d+:\\d+,\\d+', line)[0]\n",
    "            end_time_string = re.findall(r'\\d+:\\d+:\\d+,\\d+ --> (\\d+:\\d+:\\d+,\\d+)', line)[0]\n",
    "            start_time = parse_time(start_time_string)\n",
    "            end_time = parse_time(end_time_string)\n",
    "\n",
    "            srt_list.append( {\n",
    "                'index': index, \n",
    "                'content': content,\n",
    "                'start': start_time,\n",
    "                'end': end_time\n",
    "            } )\n",
    "\n",
    "    return srt_list\n",
    "\n",
    "def srt_to_json(file_srt, file_json):\n",
    "    srt = open(file_srt, 'r').read()\n",
    "    parsed_srt = parse_srt(srt)\n",
    "    open(file_json, 'w').write(json.dumps(parsed_srt, indent=2, sort_keys=True))\n",
    "\n",
    "srt_to_json(\"subtitles.srt\", \"subtitles.json\")"
   ]
  },
  {
   "cell_type": "code",
   "execution_count": null,
   "metadata": {},
   "outputs": [],
   "source": []
  }
 ],
 "metadata": {
  "kernelspec": {
   "display_name": "Python 3",
   "language": "python",
   "name": "python3"
  },
  "language_info": {
   "codemirror_mode": {
    "name": "ipython",
    "version": 3
   },
   "file_extension": ".py",
   "mimetype": "text/x-python",
   "name": "python",
   "nbconvert_exporter": "python",
   "pygments_lexer": "ipython3",
   "version": "3.7.7"
  }
 },
 "nbformat": 4,
 "nbformat_minor": 4
}
