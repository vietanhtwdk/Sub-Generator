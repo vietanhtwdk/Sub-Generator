{
 "cells": [
  {
   "cell_type": "code",
   "execution_count": 2,
   "metadata": {},
   "outputs": [],
   "source": [
    "import os\n",
    "import pytube\n",
    "from google.cloud import storage\n",
    "import json\n",
    "import io\n",
    "from google.cloud import speech_v1\n",
    "from google.cloud.speech_v1 import enums\n",
    "from google.cloud.speech_v1 import types\n",
    "import subprocess\n",
    "from pydub.utils import mediainfo\n",
    "import subprocess\n",
    "import math\n",
    "import datetime\n",
    "import srt\n"
   ]
  },
  {
   "cell_type": "code",
   "execution_count": 3,
   "metadata": {},
   "outputs": [],
   "source": [
    "os.environ[\"GOOGLE_APPLICATION_CREDENTIALS\"]=\"My First Project-bc7d9e40bc31.json\""
   ]
  },
  {
   "cell_type": "code",
   "execution_count": 4,
   "metadata": {},
   "outputs": [],
   "source": [
    "BUCKET_NAME = \"video-subtitle-generation\" # update this with your bucket name\n",
    "link=\"https://www.youtube.com/watch?v=ImEnWAVRLU0\""
   ]
  },
  {
   "cell_type": "code",
   "execution_count": 5,
   "metadata": {},
   "outputs": [],
   "source": [
    "def upload_blob(bucket_name, source_file_name, destination_blob_name):\n",
    "    \"\"\"Uploads a file to the bucket.\"\"\"\n",
    "    # bucket_name = \"your-bucket-name\"\n",
    "    # source_file_name = \"local/path/to/file\"\n",
    "    # destination_blob_name = \"storage-object-name\"\n",
    "\n",
    "    storage_client = storage.Client()\n",
    "    bucket = storage_client.bucket(bucket_name)\n",
    "    blob = bucket.blob(destination_blob_name)\n",
    "\n",
    "    blob.upload_from_filename(source_file_name)\n",
    "\n",
    "    print(\n",
    "        \"File {} uploaded to {}.\".format(\n",
    "            source_file_name, destination_blob_name\n",
    "        )\n",
    "    )"
   ]
  },
  {
   "cell_type": "code",
   "execution_count": 6,
   "metadata": {},
   "outputs": [],
   "source": [
    "def download_video(link):\n",
    "    try: \n",
    "        #object creation using YouTube which was imported in the beginning \n",
    "        yt = pytube.YouTube(link) \n",
    "    except: \n",
    "        print(\"Connection Error\") #to handle exception \n",
    "    video_path = yt.streams.filter(progressive=True, file_extension='mp4').order_by('resolution').desc().first().download()\n",
    "    \n",
    "    print(video_path)\n",
    "    # rename the path\n",
    "    new_path = video_path.split('/')\n",
    "    new_filename = f\"video.mp4\"\n",
    "    new_path[-1]= new_filename\n",
    "    new_path='/'.join(new_path)\n",
    "    os.rename(video_path, new_path)\n",
    "    print(new_path)\n",
    "    return new_path"
   ]
  },
  {
   "cell_type": "code",
   "execution_count": 7,
   "metadata": {},
   "outputs": [],
   "source": [
    "def video_info(video_filepath):\n",
    "    \"\"\" this function returns number of channels, bit rate, and sample rate of the video\"\"\"\n",
    "\n",
    "    video_data = mediainfo(video_filepath)\n",
    "    channels = video_data[\"channels\"]\n",
    "    bit_rate = video_data[\"bit_rate\"]\n",
    "    sample_rate = video_data[\"sample_rate\"]\n",
    "\n",
    "    return channels, bit_rate, sample_rate"
   ]
  },
  {
   "cell_type": "code",
   "execution_count": 8,
   "metadata": {},
   "outputs": [],
   "source": [
    "def video_to_audio(video_filepath, audio_filename, video_channels, video_bit_rate, video_sample_rate):\n",
    "    command = f\"ffmpeg -i {video_filepath} -b:a {video_bit_rate} -ac {video_channels} -ar {video_sample_rate} -vn {audio_filename}\"\n",
    "    subprocess.call(command, shell=True)\n",
    "    blob_name = f\"audios/{audio_filename}\"\n",
    "    upload_blob(BUCKET_NAME, audio_filename, blob_name)\n",
    "    return blob_name"
   ]
  },
  {
   "cell_type": "code",
   "execution_count": 9,
   "metadata": {},
   "outputs": [],
   "source": [
    "def long_running_recognize(storage_uri, channels, sample_rate):\n",
    "    \n",
    "    client = speech_v1.SpeechClient()\n",
    "\n",
    "    config = {\n",
    "        \"language_code\": \"en-US\",\n",
    "        \"sample_rate_hertz\": int(sample_rate),\n",
    "        \"encoding\": enums.RecognitionConfig.AudioEncoding.LINEAR16,\n",
    "        \"audio_channel_count\": int(channels),\n",
    "        \"enable_word_time_offsets\": True,\n",
    "        \"model\": \"video\",\n",
    "        \"enable_automatic_punctuation\":True\n",
    "    }\n",
    "    audio = {\"uri\": storage_uri}\n",
    "\n",
    "    operation = client.long_running_recognize(config, audio)\n",
    "\n",
    "    print(u\"Waiting for operation to complete...\")\n",
    "    response = operation.result()\n",
    "    return response\n"
   ]
  },
  {
   "cell_type": "code",
   "execution_count": 10,
   "metadata": {},
   "outputs": [],
   "source": [
    "def subtitle_generation(speech_to_text_response, bin_size=3):\n",
    "    \"\"\"We define a bin of time period to display the words in sync with audio. \n",
    "    Here, bin_size = 3 means each bin is of 3 secs. \n",
    "    All the words in the interval of 3 secs in result will be grouped togather.\"\"\"\n",
    "    transcriptions = []\n",
    "    index = 0\n",
    " \n",
    "    for result in response.results:\n",
    "        try:\n",
    "            if result.alternatives[0].words[0].start_time.seconds:\n",
    "                # bin start -> for first word of result\n",
    "                start_sec = result.alternatives[0].words[0].start_time.seconds \n",
    "                start_microsec = result.alternatives[0].words[0].start_time.nanos * 0.001\n",
    "            else:\n",
    "                # bin start -> For First word of response\n",
    "                start_sec = 0\n",
    "                start_microsec = 0 \n",
    "            end_sec = start_sec + bin_size # bin end sec\n",
    "            \n",
    "            # for last word of result\n",
    "            last_word_end_sec = result.alternatives[0].words[-1].end_time.seconds\n",
    "            last_word_end_microsec = result.alternatives[0].words[-1].end_time.nanos * 0.001\n",
    "            \n",
    "            # bin transcript\n",
    "            transcript = result.alternatives[0].words[0].word\n",
    "            \n",
    "            index += 1 # subtitle index\n",
    "\n",
    "            for i in range(len(result.alternatives[0].words) - 1):\n",
    "                try:\n",
    "                    word = result.alternatives[0].words[i + 1].word\n",
    "                    word_start_sec = result.alternatives[0].words[i + 1].start_time.seconds\n",
    "                    word_start_microsec = result.alternatives[0].words[i + 1].start_time.nanos * 0.001 # 0.001 to convert nana -> micro\n",
    "                    word_end_sec = result.alternatives[0].words[i + 1].end_time.seconds\n",
    "                    word_end_microsec = result.alternatives[0].words[i + 1].end_time.nanos * 0.001\n",
    "\n",
    "                    if word_end_sec < end_sec:\n",
    "                        transcript = transcript + \" \" + word\n",
    "                    else:\n",
    "                        previous_word_end_sec = result.alternatives[0].words[i].end_time.seconds\n",
    "                        previous_word_end_microsec = result.alternatives[0].words[i].end_time.nanos * 0.001\n",
    "                        \n",
    "                        # append bin transcript\n",
    "                        transcriptions.append(srt.Subtitle(index, datetime.timedelta(0, start_sec, start_microsec), datetime.timedelta(0, previous_word_end_sec, previous_word_end_microsec), transcript))\n",
    "                        \n",
    "                        # reset bin parameters\n",
    "                        start_sec = word_start_sec\n",
    "                        start_microsec = word_start_microsec\n",
    "                        end_sec = start_sec + bin_size\n",
    "                        transcript = result.alternatives[0].words[i + 1].word\n",
    "                        \n",
    "                        index += 1\n",
    "                except IndexError:\n",
    "                    pass\n",
    "            # append transcript of last transcript in bin\n",
    "            transcriptions.append(srt.Subtitle(index, datetime.timedelta(0, start_sec, start_microsec), datetime.timedelta(0, last_word_end_sec, last_word_end_microsec), transcript))\n",
    "            index += 1\n",
    "        except IndexError:\n",
    "            pass\n",
    "    \n",
    "    # turn transcription list into subtitles\n",
    "    subtitles = srt.compose(transcriptions)\n",
    "    return subtitles"
   ]
  },
  {
   "cell_type": "code",
   "execution_count": 10,
   "metadata": {},
   "outputs": [
    {
     "name": "stdout",
     "output_type": "stream",
     "text": [
      "C:\\Users\\Admin\\OneDrive\\Documents\\GitHub\\Sub-Generator\\Jupyter\\Mike Ross Interview with Harvey Specter  Suits.mp4\n"
     ]
    },
    {
     "ename": "FileExistsError",
     "evalue": "[WinError 183] Cannot create a file when that file already exists: 'C:\\\\Users\\\\Admin\\\\OneDrive\\\\Documents\\\\GitHub\\\\Sub-Generator\\\\Jupyter\\\\Mike Ross Interview with Harvey Specter  Suits.mp4' -> 'video.mp4'",
     "output_type": "error",
     "traceback": [
      "\u001b[1;31m---------------------------------------------------------------------------\u001b[0m",
      "\u001b[1;31mFileExistsError\u001b[0m                           Traceback (most recent call last)",
      "\u001b[1;32m<ipython-input-10-a7042f4f8976>\u001b[0m in \u001b[0;36m<module>\u001b[1;34m\u001b[0m\n\u001b[1;32m----> 1\u001b[1;33m \u001b[0mvideo_path\u001b[0m\u001b[1;33m=\u001b[0m\u001b[0mdownload_video\u001b[0m\u001b[1;33m(\u001b[0m\u001b[0mlink\u001b[0m\u001b[1;33m)\u001b[0m\u001b[1;33m\u001b[0m\u001b[1;33m\u001b[0m\u001b[0m\n\u001b[0m",
      "\u001b[1;32m<ipython-input-5-751b255dc27f>\u001b[0m in \u001b[0;36mdownload_video\u001b[1;34m(link)\u001b[0m\n\u001b[0;32m     13\u001b[0m     \u001b[0mnew_path\u001b[0m\u001b[1;33m[\u001b[0m\u001b[1;33m-\u001b[0m\u001b[1;36m1\u001b[0m\u001b[1;33m]\u001b[0m\u001b[1;33m=\u001b[0m \u001b[0mnew_filename\u001b[0m\u001b[1;33m\u001b[0m\u001b[1;33m\u001b[0m\u001b[0m\n\u001b[0;32m     14\u001b[0m     \u001b[0mnew_path\u001b[0m\u001b[1;33m=\u001b[0m\u001b[1;34m'/'\u001b[0m\u001b[1;33m.\u001b[0m\u001b[0mjoin\u001b[0m\u001b[1;33m(\u001b[0m\u001b[0mnew_path\u001b[0m\u001b[1;33m)\u001b[0m\u001b[1;33m\u001b[0m\u001b[1;33m\u001b[0m\u001b[0m\n\u001b[1;32m---> 15\u001b[1;33m     \u001b[0mos\u001b[0m\u001b[1;33m.\u001b[0m\u001b[0mrename\u001b[0m\u001b[1;33m(\u001b[0m\u001b[0mvideo_path\u001b[0m\u001b[1;33m,\u001b[0m \u001b[0mnew_path\u001b[0m\u001b[1;33m)\u001b[0m\u001b[1;33m\u001b[0m\u001b[1;33m\u001b[0m\u001b[0m\n\u001b[0m\u001b[0;32m     16\u001b[0m     \u001b[0mprint\u001b[0m\u001b[1;33m(\u001b[0m\u001b[0mnew_path\u001b[0m\u001b[1;33m)\u001b[0m\u001b[1;33m\u001b[0m\u001b[1;33m\u001b[0m\u001b[0m\n\u001b[0;32m     17\u001b[0m     \u001b[1;32mreturn\u001b[0m \u001b[0mnew_path\u001b[0m\u001b[1;33m\u001b[0m\u001b[1;33m\u001b[0m\u001b[0m\n",
      "\u001b[1;31mFileExistsError\u001b[0m: [WinError 183] Cannot create a file when that file already exists: 'C:\\\\Users\\\\Admin\\\\OneDrive\\\\Documents\\\\GitHub\\\\Sub-Generator\\\\Jupyter\\\\Mike Ross Interview with Harvey Specter  Suits.mp4' -> 'video.mp4'"
     ]
    }
   ],
   "source": [
    "video_path=download_video(link)"
   ]
  },
  {
   "cell_type": "code",
   "execution_count": 11,
   "metadata": {},
   "outputs": [
    {
     "name": "stderr",
     "output_type": "stream",
     "text": [
      "C:\\Users\\Admin\\.conda\\envs\\VideoSub\\lib\\site-packages\\pydub\\utils.py:198: RuntimeWarning: Couldn't find ffprobe or avprobe - defaulting to ffprobe, but may not work\n",
      "  warn(\"Couldn't find ffprobe or avprobe - defaulting to ffprobe, but may not work\", RuntimeWarning)\n"
     ]
    },
    {
     "ename": "FileNotFoundError",
     "evalue": "[WinError 2] The system cannot find the file specified",
     "output_type": "error",
     "traceback": [
      "\u001b[1;31m---------------------------------------------------------------------------\u001b[0m",
      "\u001b[1;31mFileNotFoundError\u001b[0m                         Traceback (most recent call last)",
      "\u001b[1;32m<ipython-input-11-f7a0966612c4>\u001b[0m in \u001b[0;36m<module>\u001b[1;34m\u001b[0m\n\u001b[1;32m----> 1\u001b[1;33m \u001b[0mchannels\u001b[0m\u001b[1;33m,\u001b[0m \u001b[0mbit_rate\u001b[0m\u001b[1;33m,\u001b[0m \u001b[0msample_rate\u001b[0m \u001b[1;33m=\u001b[0m \u001b[0mvideo_info\u001b[0m\u001b[1;33m(\u001b[0m\u001b[1;34m\"video.mp4\"\u001b[0m\u001b[1;33m)\u001b[0m\u001b[1;33m\u001b[0m\u001b[1;33m\u001b[0m\u001b[0m\n\u001b[0m",
      "\u001b[1;32m<ipython-input-6-87fe4f3387e7>\u001b[0m in \u001b[0;36mvideo_info\u001b[1;34m(video_filepath)\u001b[0m\n\u001b[0;32m      2\u001b[0m     \u001b[1;34m\"\"\" this function returns number of channels, bit rate, and sample rate of the video\"\"\"\u001b[0m\u001b[1;33m\u001b[0m\u001b[1;33m\u001b[0m\u001b[0m\n\u001b[0;32m      3\u001b[0m \u001b[1;33m\u001b[0m\u001b[0m\n\u001b[1;32m----> 4\u001b[1;33m     \u001b[0mvideo_data\u001b[0m \u001b[1;33m=\u001b[0m \u001b[0mmediainfo\u001b[0m\u001b[1;33m(\u001b[0m\u001b[0mvideo_filepath\u001b[0m\u001b[1;33m)\u001b[0m\u001b[1;33m\u001b[0m\u001b[1;33m\u001b[0m\u001b[0m\n\u001b[0m\u001b[0;32m      5\u001b[0m     \u001b[0mchannels\u001b[0m \u001b[1;33m=\u001b[0m \u001b[0mvideo_data\u001b[0m\u001b[1;33m[\u001b[0m\u001b[1;34m\"channels\"\u001b[0m\u001b[1;33m]\u001b[0m\u001b[1;33m\u001b[0m\u001b[1;33m\u001b[0m\u001b[0m\n\u001b[0;32m      6\u001b[0m     \u001b[0mbit_rate\u001b[0m \u001b[1;33m=\u001b[0m \u001b[0mvideo_data\u001b[0m\u001b[1;33m[\u001b[0m\u001b[1;34m\"bit_rate\"\u001b[0m\u001b[1;33m]\u001b[0m\u001b[1;33m\u001b[0m\u001b[1;33m\u001b[0m\u001b[0m\n",
      "\u001b[1;32m~\\.conda\\envs\\VideoSub\\lib\\site-packages\\pydub\\utils.py\u001b[0m in \u001b[0;36mmediainfo\u001b[1;34m(filepath)\u001b[0m\n\u001b[0;32m    332\u001b[0m \u001b[1;33m\u001b[0m\u001b[0m\n\u001b[0;32m    333\u001b[0m     \u001b[0mcommand\u001b[0m \u001b[1;33m=\u001b[0m \u001b[1;33m[\u001b[0m\u001b[0mprober\u001b[0m\u001b[1;33m,\u001b[0m \u001b[1;34m'-of'\u001b[0m\u001b[1;33m,\u001b[0m \u001b[1;34m'old'\u001b[0m\u001b[1;33m]\u001b[0m \u001b[1;33m+\u001b[0m \u001b[0mcommand_args\u001b[0m\u001b[1;33m\u001b[0m\u001b[1;33m\u001b[0m\u001b[0m\n\u001b[1;32m--> 334\u001b[1;33m     \u001b[0mres\u001b[0m \u001b[1;33m=\u001b[0m \u001b[0mPopen\u001b[0m\u001b[1;33m(\u001b[0m\u001b[0mcommand\u001b[0m\u001b[1;33m,\u001b[0m \u001b[0mstdout\u001b[0m\u001b[1;33m=\u001b[0m\u001b[0mPIPE\u001b[0m\u001b[1;33m)\u001b[0m\u001b[1;33m\u001b[0m\u001b[1;33m\u001b[0m\u001b[0m\n\u001b[0m\u001b[0;32m    335\u001b[0m     \u001b[0moutput\u001b[0m \u001b[1;33m=\u001b[0m \u001b[0mres\u001b[0m\u001b[1;33m.\u001b[0m\u001b[0mcommunicate\u001b[0m\u001b[1;33m(\u001b[0m\u001b[1;33m)\u001b[0m\u001b[1;33m[\u001b[0m\u001b[1;36m0\u001b[0m\u001b[1;33m]\u001b[0m\u001b[1;33m.\u001b[0m\u001b[0mdecode\u001b[0m\u001b[1;33m(\u001b[0m\u001b[1;34m\"utf-8\"\u001b[0m\u001b[1;33m)\u001b[0m\u001b[1;33m\u001b[0m\u001b[1;33m\u001b[0m\u001b[0m\n\u001b[0;32m    336\u001b[0m \u001b[1;33m\u001b[0m\u001b[0m\n",
      "\u001b[1;32m~\\.conda\\envs\\VideoSub\\lib\\subprocess.py\u001b[0m in \u001b[0;36m__init__\u001b[1;34m(self, args, bufsize, executable, stdin, stdout, stderr, preexec_fn, close_fds, shell, cwd, env, universal_newlines, startupinfo, creationflags, restore_signals, start_new_session, pass_fds, encoding, errors, text)\u001b[0m\n\u001b[0;32m    798\u001b[0m                                 \u001b[0mc2pread\u001b[0m\u001b[1;33m,\u001b[0m \u001b[0mc2pwrite\u001b[0m\u001b[1;33m,\u001b[0m\u001b[1;33m\u001b[0m\u001b[1;33m\u001b[0m\u001b[0m\n\u001b[0;32m    799\u001b[0m                                 \u001b[0merrread\u001b[0m\u001b[1;33m,\u001b[0m \u001b[0merrwrite\u001b[0m\u001b[1;33m,\u001b[0m\u001b[1;33m\u001b[0m\u001b[1;33m\u001b[0m\u001b[0m\n\u001b[1;32m--> 800\u001b[1;33m                                 restore_signals, start_new_session)\n\u001b[0m\u001b[0;32m    801\u001b[0m         \u001b[1;32mexcept\u001b[0m\u001b[1;33m:\u001b[0m\u001b[1;33m\u001b[0m\u001b[1;33m\u001b[0m\u001b[0m\n\u001b[0;32m    802\u001b[0m             \u001b[1;31m# Cleanup if the child failed starting.\u001b[0m\u001b[1;33m\u001b[0m\u001b[1;33m\u001b[0m\u001b[1;33m\u001b[0m\u001b[0m\n",
      "\u001b[1;32m~\\.conda\\envs\\VideoSub\\lib\\subprocess.py\u001b[0m in \u001b[0;36m_execute_child\u001b[1;34m(self, args, executable, preexec_fn, close_fds, pass_fds, cwd, env, startupinfo, creationflags, shell, p2cread, p2cwrite, c2pread, c2pwrite, errread, errwrite, unused_restore_signals, unused_start_new_session)\u001b[0m\n\u001b[0;32m   1205\u001b[0m                                          \u001b[0menv\u001b[0m\u001b[1;33m,\u001b[0m\u001b[1;33m\u001b[0m\u001b[1;33m\u001b[0m\u001b[0m\n\u001b[0;32m   1206\u001b[0m                                          \u001b[0mos\u001b[0m\u001b[1;33m.\u001b[0m\u001b[0mfspath\u001b[0m\u001b[1;33m(\u001b[0m\u001b[0mcwd\u001b[0m\u001b[1;33m)\u001b[0m \u001b[1;32mif\u001b[0m \u001b[0mcwd\u001b[0m \u001b[1;32mis\u001b[0m \u001b[1;32mnot\u001b[0m \u001b[1;32mNone\u001b[0m \u001b[1;32melse\u001b[0m \u001b[1;32mNone\u001b[0m\u001b[1;33m,\u001b[0m\u001b[1;33m\u001b[0m\u001b[1;33m\u001b[0m\u001b[0m\n\u001b[1;32m-> 1207\u001b[1;33m                                          startupinfo)\n\u001b[0m\u001b[0;32m   1208\u001b[0m             \u001b[1;32mfinally\u001b[0m\u001b[1;33m:\u001b[0m\u001b[1;33m\u001b[0m\u001b[1;33m\u001b[0m\u001b[0m\n\u001b[0;32m   1209\u001b[0m                 \u001b[1;31m# Child is launched. Close the parent's copy of those pipe\u001b[0m\u001b[1;33m\u001b[0m\u001b[1;33m\u001b[0m\u001b[1;33m\u001b[0m\u001b[0m\n",
      "\u001b[1;31mFileNotFoundError\u001b[0m: [WinError 2] The system cannot find the file specified"
     ]
    }
   ],
   "source": [
    "channels, bit_rate, sample_rate = video_info(\"video.mp4\")"
   ]
  },
  {
   "cell_type": "code",
   "execution_count": 12,
   "metadata": {},
   "outputs": [
    {
     "ename": "Forbidden",
     "evalue": "403 POST https://storage.googleapis.com/upload/storage/v1/b/video-subtitle-generation/o?uploadType=resumable: ('Request failed with status code', 403, 'Expected one of', <HTTPStatus.OK: 200>)",
     "output_type": "error",
     "traceback": [
      "\u001b[1;31m---------------------------------------------------------------------------\u001b[0m",
      "\u001b[1;31mInvalidResponse\u001b[0m                           Traceback (most recent call last)",
      "\u001b[1;32m~\\.conda\\envs\\VideoSub\\lib\\site-packages\\google\\cloud\\storage\\blob.py\u001b[0m in \u001b[0;36mupload_from_file\u001b[1;34m(self, file_obj, rewind, size, content_type, num_retries, client, predefined_acl, if_generation_match, if_generation_not_match, if_metageneration_match, if_metageneration_not_match)\u001b[0m\n\u001b[0;32m   1794\u001b[0m                 \u001b[0mif_metageneration_match\u001b[0m\u001b[1;33m,\u001b[0m\u001b[1;33m\u001b[0m\u001b[1;33m\u001b[0m\u001b[0m\n\u001b[1;32m-> 1795\u001b[1;33m                 \u001b[0mif_metageneration_not_match\u001b[0m\u001b[1;33m,\u001b[0m\u001b[1;33m\u001b[0m\u001b[1;33m\u001b[0m\u001b[0m\n\u001b[0m\u001b[0;32m   1796\u001b[0m             )\n",
      "\u001b[1;32m~\\.conda\\envs\\VideoSub\\lib\\site-packages\\google\\cloud\\storage\\blob.py\u001b[0m in \u001b[0;36m_do_upload\u001b[1;34m(self, client, stream, content_type, size, num_retries, predefined_acl, if_generation_match, if_generation_not_match, if_metageneration_match, if_metageneration_not_match)\u001b[0m\n\u001b[0;32m   1666\u001b[0m                 \u001b[0mif_metageneration_match\u001b[0m\u001b[1;33m,\u001b[0m\u001b[1;33m\u001b[0m\u001b[1;33m\u001b[0m\u001b[0m\n\u001b[1;32m-> 1667\u001b[1;33m                 \u001b[0mif_metageneration_not_match\u001b[0m\u001b[1;33m,\u001b[0m\u001b[1;33m\u001b[0m\u001b[1;33m\u001b[0m\u001b[0m\n\u001b[0m\u001b[0;32m   1668\u001b[0m             )\n",
      "\u001b[1;32m~\\.conda\\envs\\VideoSub\\lib\\site-packages\\google\\cloud\\storage\\blob.py\u001b[0m in \u001b[0;36m_do_resumable_upload\u001b[1;34m(self, client, stream, content_type, size, num_retries, predefined_acl, if_generation_match, if_generation_not_match, if_metageneration_match, if_metageneration_not_match)\u001b[0m\n\u001b[0;32m   1560\u001b[0m             \u001b[0mif_metageneration_match\u001b[0m\u001b[1;33m=\u001b[0m\u001b[0mif_metageneration_match\u001b[0m\u001b[1;33m,\u001b[0m\u001b[1;33m\u001b[0m\u001b[1;33m\u001b[0m\u001b[0m\n\u001b[1;32m-> 1561\u001b[1;33m             \u001b[0mif_metageneration_not_match\u001b[0m\u001b[1;33m=\u001b[0m\u001b[0mif_metageneration_not_match\u001b[0m\u001b[1;33m,\u001b[0m\u001b[1;33m\u001b[0m\u001b[1;33m\u001b[0m\u001b[0m\n\u001b[0m\u001b[0;32m   1562\u001b[0m         )\n",
      "\u001b[1;32m~\\.conda\\envs\\VideoSub\\lib\\site-packages\\google\\cloud\\storage\\blob.py\u001b[0m in \u001b[0;36m_initiate_resumable_upload\u001b[1;34m(self, client, stream, content_type, size, num_retries, predefined_acl, extra_headers, chunk_size, if_generation_match, if_generation_not_match, if_metageneration_match, if_metageneration_not_match)\u001b[0m\n\u001b[0;32m   1473\u001b[0m             \u001b[0mtotal_bytes\u001b[0m\u001b[1;33m=\u001b[0m\u001b[0msize\u001b[0m\u001b[1;33m,\u001b[0m\u001b[1;33m\u001b[0m\u001b[1;33m\u001b[0m\u001b[0m\n\u001b[1;32m-> 1474\u001b[1;33m             \u001b[0mstream_final\u001b[0m\u001b[1;33m=\u001b[0m\u001b[1;32mFalse\u001b[0m\u001b[1;33m,\u001b[0m\u001b[1;33m\u001b[0m\u001b[1;33m\u001b[0m\u001b[0m\n\u001b[0m\u001b[0;32m   1475\u001b[0m         )\n",
      "\u001b[1;32m~\\.conda\\envs\\VideoSub\\lib\\site-packages\\google\\resumable_media\\requests\\upload.py\u001b[0m in \u001b[0;36minitiate\u001b[1;34m(self, transport, stream, metadata, content_type, total_bytes, stream_final)\u001b[0m\n\u001b[0;32m    352\u001b[0m         )\n\u001b[1;32m--> 353\u001b[1;33m         \u001b[0mself\u001b[0m\u001b[1;33m.\u001b[0m\u001b[0m_process_initiate_response\u001b[0m\u001b[1;33m(\u001b[0m\u001b[0mresponse\u001b[0m\u001b[1;33m)\u001b[0m\u001b[1;33m\u001b[0m\u001b[1;33m\u001b[0m\u001b[0m\n\u001b[0m\u001b[0;32m    354\u001b[0m         \u001b[1;32mreturn\u001b[0m \u001b[0mresponse\u001b[0m\u001b[1;33m\u001b[0m\u001b[1;33m\u001b[0m\u001b[0m\n",
      "\u001b[1;32m~\\.conda\\envs\\VideoSub\\lib\\site-packages\\google\\resumable_media\\_upload.py\u001b[0m in \u001b[0;36m_process_initiate_response\u001b[1;34m(self, response)\u001b[0m\n\u001b[0;32m    456\u001b[0m             \u001b[0mself\u001b[0m\u001b[1;33m.\u001b[0m\u001b[0m_get_status_code\u001b[0m\u001b[1;33m,\u001b[0m\u001b[1;33m\u001b[0m\u001b[1;33m\u001b[0m\u001b[0m\n\u001b[1;32m--> 457\u001b[1;33m             \u001b[0mcallback\u001b[0m\u001b[1;33m=\u001b[0m\u001b[0mself\u001b[0m\u001b[1;33m.\u001b[0m\u001b[0m_make_invalid\u001b[0m\u001b[1;33m,\u001b[0m\u001b[1;33m\u001b[0m\u001b[1;33m\u001b[0m\u001b[0m\n\u001b[0m\u001b[0;32m    458\u001b[0m         )\n",
      "\u001b[1;32m~\\.conda\\envs\\VideoSub\\lib\\site-packages\\google\\resumable_media\\_helpers.py\u001b[0m in \u001b[0;36mrequire_status_code\u001b[1;34m(response, status_codes, get_status_code, callback)\u001b[0m\n\u001b[0;32m     95\u001b[0m             \u001b[1;34mu\"Expected one of\"\u001b[0m\u001b[1;33m,\u001b[0m\u001b[1;33m\u001b[0m\u001b[1;33m\u001b[0m\u001b[0m\n\u001b[1;32m---> 96\u001b[1;33m             \u001b[1;33m*\u001b[0m\u001b[0mstatus_codes\u001b[0m\u001b[1;33m\u001b[0m\u001b[1;33m\u001b[0m\u001b[0m\n\u001b[0m\u001b[0;32m     97\u001b[0m         )\n",
      "\u001b[1;31mInvalidResponse\u001b[0m: ('Request failed with status code', 403, 'Expected one of', <HTTPStatus.OK: 200>)",
      "\nDuring handling of the above exception, another exception occurred:\n",
      "\u001b[1;31mForbidden\u001b[0m                                 Traceback (most recent call last)",
      "\u001b[1;32m<ipython-input-12-cea75082ac6c>\u001b[0m in \u001b[0;36m<module>\u001b[1;34m\u001b[0m\n\u001b[1;32m----> 1\u001b[1;33m \u001b[0mblob_name\u001b[0m\u001b[1;33m=\u001b[0m\u001b[0mvideo_to_audio\u001b[0m\u001b[1;33m(\u001b[0m\u001b[1;34m\"video.mp4\"\u001b[0m\u001b[1;33m,\u001b[0m \u001b[1;34m\"audio.wav\"\u001b[0m\u001b[1;33m,\u001b[0m \u001b[1;36m2\u001b[0m\u001b[1;33m,\u001b[0m \u001b[1;36m127\u001b[0m\u001b[1;33m,\u001b[0m \u001b[1;36m44100\u001b[0m\u001b[1;33m)\u001b[0m\u001b[1;33m\u001b[0m\u001b[1;33m\u001b[0m\u001b[0m\n\u001b[0m",
      "\u001b[1;32m<ipython-input-8-630de579bae2>\u001b[0m in \u001b[0;36mvideo_to_audio\u001b[1;34m(video_filepath, audio_filename, video_channels, video_bit_rate, video_sample_rate)\u001b[0m\n\u001b[0;32m      3\u001b[0m     \u001b[0msubprocess\u001b[0m\u001b[1;33m.\u001b[0m\u001b[0mcall\u001b[0m\u001b[1;33m(\u001b[0m\u001b[0mcommand\u001b[0m\u001b[1;33m,\u001b[0m \u001b[0mshell\u001b[0m\u001b[1;33m=\u001b[0m\u001b[1;32mTrue\u001b[0m\u001b[1;33m)\u001b[0m\u001b[1;33m\u001b[0m\u001b[1;33m\u001b[0m\u001b[0m\n\u001b[0;32m      4\u001b[0m     \u001b[0mblob_name\u001b[0m \u001b[1;33m=\u001b[0m \u001b[1;34mf\"audios/{audio_filename}\"\u001b[0m\u001b[1;33m\u001b[0m\u001b[1;33m\u001b[0m\u001b[0m\n\u001b[1;32m----> 5\u001b[1;33m     \u001b[0mupload_blob\u001b[0m\u001b[1;33m(\u001b[0m\u001b[0mBUCKET_NAME\u001b[0m\u001b[1;33m,\u001b[0m \u001b[0maudio_filename\u001b[0m\u001b[1;33m,\u001b[0m \u001b[0mblob_name\u001b[0m\u001b[1;33m)\u001b[0m\u001b[1;33m\u001b[0m\u001b[1;33m\u001b[0m\u001b[0m\n\u001b[0m\u001b[0;32m      6\u001b[0m     \u001b[1;32mreturn\u001b[0m \u001b[0mblob_name\u001b[0m\u001b[1;33m\u001b[0m\u001b[1;33m\u001b[0m\u001b[0m\n",
      "\u001b[1;32m<ipython-input-5-9887bc2f8bfe>\u001b[0m in \u001b[0;36mupload_blob\u001b[1;34m(bucket_name, source_file_name, destination_blob_name)\u001b[0m\n\u001b[0;32m      9\u001b[0m     \u001b[0mblob\u001b[0m \u001b[1;33m=\u001b[0m \u001b[0mbucket\u001b[0m\u001b[1;33m.\u001b[0m\u001b[0mblob\u001b[0m\u001b[1;33m(\u001b[0m\u001b[0mdestination_blob_name\u001b[0m\u001b[1;33m)\u001b[0m\u001b[1;33m\u001b[0m\u001b[1;33m\u001b[0m\u001b[0m\n\u001b[0;32m     10\u001b[0m \u001b[1;33m\u001b[0m\u001b[0m\n\u001b[1;32m---> 11\u001b[1;33m     \u001b[0mblob\u001b[0m\u001b[1;33m.\u001b[0m\u001b[0mupload_from_filename\u001b[0m\u001b[1;33m(\u001b[0m\u001b[0msource_file_name\u001b[0m\u001b[1;33m)\u001b[0m\u001b[1;33m\u001b[0m\u001b[1;33m\u001b[0m\u001b[0m\n\u001b[0m\u001b[0;32m     12\u001b[0m \u001b[1;33m\u001b[0m\u001b[0m\n\u001b[0;32m     13\u001b[0m     print(\n",
      "\u001b[1;32m~\\.conda\\envs\\VideoSub\\lib\\site-packages\\google\\cloud\\storage\\blob.py\u001b[0m in \u001b[0;36mupload_from_filename\u001b[1;34m(self, filename, content_type, client, predefined_acl, if_generation_match, if_generation_not_match, if_metageneration_match, if_metageneration_not_match)\u001b[0m\n\u001b[0;32m   1881\u001b[0m                 \u001b[0mif_generation_not_match\u001b[0m\u001b[1;33m=\u001b[0m\u001b[0mif_generation_not_match\u001b[0m\u001b[1;33m,\u001b[0m\u001b[1;33m\u001b[0m\u001b[1;33m\u001b[0m\u001b[0m\n\u001b[0;32m   1882\u001b[0m                 \u001b[0mif_metageneration_match\u001b[0m\u001b[1;33m=\u001b[0m\u001b[0mif_metageneration_match\u001b[0m\u001b[1;33m,\u001b[0m\u001b[1;33m\u001b[0m\u001b[1;33m\u001b[0m\u001b[0m\n\u001b[1;32m-> 1883\u001b[1;33m                 \u001b[0mif_metageneration_not_match\u001b[0m\u001b[1;33m=\u001b[0m\u001b[0mif_metageneration_not_match\u001b[0m\u001b[1;33m,\u001b[0m\u001b[1;33m\u001b[0m\u001b[1;33m\u001b[0m\u001b[0m\n\u001b[0m\u001b[0;32m   1884\u001b[0m             )\n\u001b[0;32m   1885\u001b[0m \u001b[1;33m\u001b[0m\u001b[0m\n",
      "\u001b[1;32m~\\.conda\\envs\\VideoSub\\lib\\site-packages\\google\\cloud\\storage\\blob.py\u001b[0m in \u001b[0;36mupload_from_file\u001b[1;34m(self, file_obj, rewind, size, content_type, num_retries, client, predefined_acl, if_generation_match, if_generation_not_match, if_metageneration_match, if_metageneration_not_match)\u001b[0m\n\u001b[0;32m   1797\u001b[0m             \u001b[0mself\u001b[0m\u001b[1;33m.\u001b[0m\u001b[0m_set_properties\u001b[0m\u001b[1;33m(\u001b[0m\u001b[0mcreated_json\u001b[0m\u001b[1;33m)\u001b[0m\u001b[1;33m\u001b[0m\u001b[1;33m\u001b[0m\u001b[0m\n\u001b[0;32m   1798\u001b[0m         \u001b[1;32mexcept\u001b[0m \u001b[0mresumable_media\u001b[0m\u001b[1;33m.\u001b[0m\u001b[0mInvalidResponse\u001b[0m \u001b[1;32mas\u001b[0m \u001b[0mexc\u001b[0m\u001b[1;33m:\u001b[0m\u001b[1;33m\u001b[0m\u001b[1;33m\u001b[0m\u001b[0m\n\u001b[1;32m-> 1799\u001b[1;33m             \u001b[0m_raise_from_invalid_response\u001b[0m\u001b[1;33m(\u001b[0m\u001b[0mexc\u001b[0m\u001b[1;33m)\u001b[0m\u001b[1;33m\u001b[0m\u001b[1;33m\u001b[0m\u001b[0m\n\u001b[0m\u001b[0;32m   1800\u001b[0m \u001b[1;33m\u001b[0m\u001b[0m\n\u001b[0;32m   1801\u001b[0m     def upload_from_filename(\n",
      "\u001b[1;32m~\\.conda\\envs\\VideoSub\\lib\\site-packages\\google\\cloud\\storage\\blob.py\u001b[0m in \u001b[0;36m_raise_from_invalid_response\u001b[1;34m(error)\u001b[0m\n\u001b[0;32m   3089\u001b[0m     )\n\u001b[0;32m   3090\u001b[0m \u001b[1;33m\u001b[0m\u001b[0m\n\u001b[1;32m-> 3091\u001b[1;33m     \u001b[1;32mraise\u001b[0m \u001b[0mexceptions\u001b[0m\u001b[1;33m.\u001b[0m\u001b[0mfrom_http_status\u001b[0m\u001b[1;33m(\u001b[0m\u001b[0mresponse\u001b[0m\u001b[1;33m.\u001b[0m\u001b[0mstatus_code\u001b[0m\u001b[1;33m,\u001b[0m \u001b[0mmessage\u001b[0m\u001b[1;33m,\u001b[0m \u001b[0mresponse\u001b[0m\u001b[1;33m=\u001b[0m\u001b[0mresponse\u001b[0m\u001b[1;33m)\u001b[0m\u001b[1;33m\u001b[0m\u001b[1;33m\u001b[0m\u001b[0m\n\u001b[0m\u001b[0;32m   3092\u001b[0m \u001b[1;33m\u001b[0m\u001b[0m\n\u001b[0;32m   3093\u001b[0m \u001b[1;33m\u001b[0m\u001b[0m\n",
      "\u001b[1;31mForbidden\u001b[0m: 403 POST https://storage.googleapis.com/upload/storage/v1/b/video-subtitle-generation/o?uploadType=resumable: ('Request failed with status code', 403, 'Expected one of', <HTTPStatus.OK: 200>)"
     ]
    }
   ],
   "source": [
    "blob_name=video_to_audio(\"video.mp4\", \"audio.wav\", 2, 127, 44100)\n"
   ]
  },
  {
   "cell_type": "code",
   "execution_count": 12,
   "metadata": {},
   "outputs": [
    {
     "ename": "NameError",
     "evalue": "name 'blob_name' is not defined",
     "output_type": "error",
     "traceback": [
      "\u001b[1;31m---------------------------------------------------------------------------\u001b[0m",
      "\u001b[1;31mNameError\u001b[0m                                 Traceback (most recent call last)",
      "\u001b[1;32m<ipython-input-12-e4f6fa92cce5>\u001b[0m in \u001b[0;36m<module>\u001b[1;34m\u001b[0m\n\u001b[1;32m----> 1\u001b[1;33m \u001b[0mgcs_uri\u001b[0m \u001b[1;33m=\u001b[0m \u001b[1;34mf\"gs://{BUCKET_NAME}/{blob_name}\"\u001b[0m\u001b[1;33m\u001b[0m\u001b[1;33m\u001b[0m\u001b[0m\n\u001b[0m\u001b[0;32m      2\u001b[0m \u001b[0mresponse\u001b[0m\u001b[1;33m=\u001b[0m\u001b[0mlong_running_recognize\u001b[0m\u001b[1;33m(\u001b[0m\u001b[0mgcs_uri\u001b[0m\u001b[1;33m,\u001b[0m \u001b[0mchannels\u001b[0m\u001b[1;33m,\u001b[0m \u001b[0msample_rate\u001b[0m\u001b[1;33m)\u001b[0m\u001b[1;33m\u001b[0m\u001b[1;33m\u001b[0m\u001b[0m\n",
      "\u001b[1;31mNameError\u001b[0m: name 'blob_name' is not defined"
     ]
    }
   ],
   "source": [
    "gcs_uri = f\"gs://{BUCKET_NAME}/{blob_name}\"\n",
    "response=long_running_recognize(gcs_uri, channels, sample_rate)"
   ]
  },
  {
   "cell_type": "code",
   "execution_count": null,
   "metadata": {},
   "outputs": [],
   "source": [
    "subtitles= subtitle_generation(response)"
   ]
  },
  {
   "cell_type": "code",
   "execution_count": null,
   "metadata": {},
   "outputs": [],
   "source": [
    "with open(\"subtitles.srt\", \"w\") as f:\n",
    "    f.write(subtitles)"
   ]
  },
  {
   "cell_type": "code",
   "execution_count": 19,
   "metadata": {},
   "outputs": [
    {
     "name": "stdout",
     "output_type": "stream",
     "text": [
      "video.mp4\n"
     ]
    }
   ],
   "source": [
    "print(video_path)"
   ]
  },
  {
   "cell_type": "code",
   "execution_count": 28,
   "metadata": {},
   "outputs": [
    {
     "data": {
      "text/plain": [
       "True"
      ]
     },
     "execution_count": 28,
     "metadata": {},
     "output_type": "execute_result"
    }
   ],
   "source": [
    "os.path.exists(\"video.mp4\")"
   ]
  },
  {
   "cell_type": "code",
   "execution_count": null,
   "metadata": {},
   "outputs": [],
   "source": []
  }
 ],
 "metadata": {
  "kernelspec": {
   "display_name": "Python 3",
   "language": "python",
   "name": "python3"
  },
  "language_info": {
   "codemirror_mode": {
    "name": "ipython",
    "version": 3
   },
   "file_extension": ".py",
   "mimetype": "text/x-python",
   "name": "python",
   "nbconvert_exporter": "python",
   "pygments_lexer": "ipython3",
   "version": "3.7.7"
  }
 },
 "nbformat": 4,
 "nbformat_minor": 4
}
